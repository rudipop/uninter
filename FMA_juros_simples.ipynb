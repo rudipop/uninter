{
  "nbformat": 4,
  "nbformat_minor": 0,
  "metadata": {
    "colab": {
      "name": "FMA_juros simples.ipynb",
      "provenance": [],
      "collapsed_sections": [],
      "toc_visible": true
    },
    "kernelspec": {
      "name": "python3",
      "display_name": "Python 3"
    }
  },
  "cells": [
    {
      "cell_type": "code",
      "metadata": {
        "id": "98272zj8DVLI"
      },
      "source": [
        "#Juros simples\n"
      ],
      "execution_count": null,
      "outputs": []
    },
    {
      "cell_type": "markdown",
      "metadata": {
        "id": "PLsiXJbIDovc"
      },
      "source": [
        "#Juros Simples"
      ]
    },
    {
      "cell_type": "markdown",
      "metadata": {
        "id": "CtUpr64aDi1G"
      },
      "source": [
        ""
      ]
    },
    {
      "cell_type": "code",
      "metadata": {
        "id": "nSEkkc80DuxU"
      },
      "source": [
        "# capital\n",
        "c = 5387.76\n",
        "# montante\n",
        "m = 5612.89\n",
        "# tempo\n",
        "n = 23\n"
      ],
      "execution_count": 5,
      "outputs": []
    },
    {
      "cell_type": "code",
      "metadata": {
        "colab": {
          "base_uri": "https://localhost:8080/"
        },
        "id": "IDDRJeM5EaGd",
        "outputId": "4c36a969-0b42-4a53-f87d-c7360563a65a"
      },
      "source": [
        "# taxa diária\n",
        "i = ((m-c)/(c*n))*100\n",
        "print(\"taxa diária = %.2f%%\" % i)"
      ],
      "execution_count": 15,
      "outputs": [
        {
          "output_type": "stream",
          "text": [
            "taxa diária = 0.18%\n"
          ],
          "name": "stdout"
        }
      ]
    },
    {
      "cell_type": "markdown",
      "metadata": {
        "id": "oT8jjDWADfDt"
      },
      "source": [
        ""
      ]
    }
  ]
}